{
 "cells": [
  {
   "cell_type": "code",
   "execution_count": 72,
   "id": "81aa0da5",
   "metadata": {},
   "outputs": [
    {
     "name": "stdout",
     "output_type": "stream",
     "text": [
      "Please answer the following questions (Enter 'Yes' or 'No'):\n",
      "Prediction: ['Yes']\n"
     ]
    }
   ],
   "source": [
    "import pandas as pd\n",
    "from sklearn.model_selection import train_test_split\n",
    "from sklearn.preprocessing import StandardScaler\n",
    "from sklearn.ensemble import RandomForestClassifier\n",
    "from sklearn.metrics import accuracy_score\n",
    "\n",
    "# Load the data\n",
    "data = pd.read_csv('PPDD.csv')\n",
    "\n",
    "# Separate the features (X) and target variable (y)\n",
    "X = data.iloc[:, :-1]\n",
    "y = data.iloc[:, -1]\n",
    "\n",
    "# Perform feature engineering if applicable\n",
    "\n",
    "# Perform one-hot encoding on the categorical variables\n",
    "X_encoded = pd.get_dummies(X)\n",
    "\n",
    "# Split the data into training and test sets\n",
    "X_train, X_test, y_train, y_test = train_test_split(X_encoded, y, test_size=0.2, random_state=42)\n",
    "\n",
    "# Scale the data\n",
    "scaler = StandardScaler()\n",
    "X_train_scaled = scaler.fit_transform(X_train)\n",
    "X_test_scaled = scaler.transform(X_test)\n",
    "\n",
    "# Create and train the model (e.g., RandomForestClassifier)\n",
    "model = RandomForestClassifier()\n",
    "model.fit(X_train_scaled, y_train)\n",
    "\n",
    "# Ask the user questions\n",
    "print(\"Please answer the following questions (Enter 'Yes' or 'No'):\")\n",
    "\n",
    "responses = []\n",
    "for column in X.columns:\n",
    "    response = input(column + \": \")\n",
    "    responses.append(response)\n",
    "\n",
    "# Encode and scale the user's responses\n",
    "user_input = pd.DataFrame([responses], columns=X.columns)\n",
    "user_input_encoded = pd.get_dummies(user_input)\n",
    "\n",
    "# Align the columns of user_input_encoded with X_encoded\n",
    "user_input_encoded = user_input_encoded.reindex(columns=X_encoded.columns, fill_value=0)\n",
    "\n",
    "# Scale the user input\n",
    "user_input_scaled = scaler.transform(user_input_encoded)\n",
    "\n",
    "# Predict if the user has postpartum depression\n",
    "prediction = model.predict(user_input_scaled)\n",
    "prediction_label = prediction\n",
    "\n",
    "print(\"Prediction: {}\".format(prediction_label))"
   ]
  }
 ],
 "metadata": {
  "kernelspec": {
   "display_name": "Python 3 (ipykernel)",
   "language": "python",
   "name": "python3"
  },
  "language_info": {
   "codemirror_mode": {
    "name": "ipython",
    "version": 3
   },
   "file_extension": ".py",
   "mimetype": "text/x-python",
   "name": "python",
   "nbconvert_exporter": "python",
   "pygments_lexer": "ipython3",
   "version": "3.11.0"
  }
 },
 "nbformat": 4,
 "nbformat_minor": 5
}
